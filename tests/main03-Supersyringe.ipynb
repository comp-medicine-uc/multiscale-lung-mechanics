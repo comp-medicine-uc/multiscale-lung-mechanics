{
 "cells": [
  {
   "cell_type": "markdown",
   "metadata": {},
   "source": [
    "# The supersyringe method: quasi-static pressure-volume lung curves\n",
    "\n",
    "\n",
    "\n",
    "In the following notebook we simulate the supersyringe method using the approach proposal in Hurtado, Avilés-Rojas & Concha (2023).  To this end, a poromechanical multiscale model that connects key alveolar features with organ-level function was developed. In this approach, the coarse-scale problem is informed using a tetrakaidecahedron micromechanical model for the alveolar response at the fine scale that strongly depends on the alveolar-wall elastic modulus and the initial alveolar porosity\n",
    "\n",
    "\n",
    "\n",
    "The lung is represented by a poroelastic continuum $Ω_X$ with boundary $\\partial \\Omega_X$. The boundary of the lung domain was partitioned into the airways surface and the\n",
    "visceral pleura surface that lines the remaining lung surface. The airways boundary was\n",
    "determined by considering the surface encompassing bifurcations from the mediastinal sur-\n",
    "face down to the lobar bronchi. Smaller airways in subsequent branches were considered\n",
    "to be part of the lung parenchyma domain. The visceral pleura surface was defined as the\n",
    "complement of the airways surface.\n",
    "\n",
    "The strong formulation for the finite strain poroelasticity problem is\n",
    "\n",
    "Find $\\varphi^c:\\Omega_X \\times \\mathbb{R} \\to \\mathbb{R}^3$ and $P^c:\\Omega_X \\times \\mathbb{R} \\to \\mathbb{R}$ such that\n",
    "\n",
    "\\begin{align}\n",
    "\t \\nabla_X \\cdot  \t \\boldsymbol{P}_S^{eff} &= \\boldsymbol{0} &\\quad \\mbox{ in $\\Omega_X \\times (0,T]$ } \\\\\n",
    "\t \\dfrac{\\partial \\Phi}{\\partial t} +\\nabla_X \\cdot {Q}^c &=0 &\\quad \\mbox{ in $\\Omega_X \\times (0,T]$ } . \\\\\n",
    "\t  \\varphi^c &= {{ \\varphi}_0^c} &\\quad \\mbox{ in $\\partial \\Omega_X$}.  \\\\\n",
    "\t P^c &=  P_0^c &\\quad \\mbox{ on $\\partial \\Omega_X$}.\\\\\n",
    " \\varphi^c &= {{\\bar \\varphi}^c} &\\quad \\mbox{ on $\\partial \\Omega_X^{\\varphi}$} \\times (0,T] .\\\\\n",
    "\t \\boldsymbol{P}_S^{eff}  \\cdot  \\boldsymbol{N} &= {\\bar T}^{c} &\\quad \\mbox{ on $\\partial \\Omega_X^T$} \\times (0,T] . \\\\\n",
    " P^c &= \\bar P^c &\\quad \\mbox{ on $\\partial \\Omega_X^P$}\\times (0,T] \\\\\n",
    "\\boldsymbol{Q}^c \\cdot \\boldsymbol{N} &= {\\bar Q}^c &\\quad \\mbox{ on $\\partial \\Omega_X^Q$} \\times (0,T]\n",
    "\\end{align}\n",
    "\n",
    "\n",
    "where \n",
    "\n",
    "\\begin{equation}\n",
    "\\boldsymbol{P_S}^{eff} = \\boldsymbol{P}_S^{c} - J^c P^c \\left(\\boldsymbol{F^c}\\right)^{-T}\n",
    "\\end{equation}\n",
    "\n",
    "\n",
    "\\begin{equation}\n",
    " \\boldsymbol{Q}^c=    J^c \\boldsymbol{ F}^{c^{-1}}  \\boldsymbol{K}  \\boldsymbol{F}^{c^{-T}} \\nabla_X P^c.  \n",
    "\\end{equation}\n",
    "\n",
    "We remark that the coarse-scale is informed by the TKD microestructure, then coarse-scale solid stress is computed as\n",
    "\n",
    "\\begin{equation}\n",
    "    \\boldsymbol{P}_S^{c}= \\frac{1}{\\| \\Theta_{Y} \\|} \\int_{\\Theta_{Y_S}}   \\boldsymbol{P}_S^{f} \\ d \\Theta_{Y_S}\n",
    "\\end{equation}\n",
    "where $\\Theta_{Y_S}$ is the solid microestructural (TKDr) domain.\n",
    "\n",
    "\n",
    "\n"
   ]
  },
  {
   "cell_type": "markdown",
   "metadata": {},
   "source": [
    "We begin by importing the necessary modules."
   ]
  },
  {
   "cell_type": "code",
   "execution_count": null,
   "metadata": {},
   "outputs": [],
   "source": [
    "# Import and install \n",
    "try:\n",
    "    import dolfin\n",
    "    print(\"oui\")\n",
    "except ImportError:\n",
    "    !wget \"https://fem-on-colab.github.io/releases/fenics-install.sh\" -O \"/tmp/fenics-install.sh\" && bash \"/tmp/fenics-install.sh\"\n",
    "    import dolfin"
   ]
  },
  {
   "cell_type": "code",
   "execution_count": null,
   "metadata": {},
   "outputs": [],
   "source": [
    "!pip install meshio==4.4.6"
   ]
  },
  {
   "cell_type": "code",
   "execution_count": null,
   "metadata": {},
   "outputs": [],
   "source": [
    "import dolfin\n",
    "import ufl\n",
    "from petsc4py import PETSc\n",
    "import userTKD as userTKD\n",
    "import numpy as np\n",
    "import matplotlib.pyplot as plt\n",
    "import os\n",
    "import time\n",
    "import sys\n",
    "import modelfunctions as md\n",
    "from sklearn import linear_model"
   ]
  },
  {
   "cell_type": "markdown",
   "metadata": {},
   "source": [
    "## Parameters definition\n",
    "\n",
    "\n",
    "  We define parameters for the simulation:\n",
    "* TKD parameters:\n",
    "    + Alveolar-wall elastic modulus $\\mu$   (variable to sensitize, baseline=10.33)\n",
    "    + Initial alveolar porosity $f_0$ (variable to sensitize, baseline=0.69)\n",
    "    + Rotational stiffness coefficient $\\alpha$ (default=1.6)\n",
    "    + Overlap coefficient $d$ (default=0.49)\n",
    "* Lung permeability (default=$10^4$)\n",
    "* Spring stiffness (chest-wall effect) (default=80/1000)\n",
    "* Supersyringe protocol:\n",
    "   + Number of cycles. The duration of each cycle is 3 seconds and I:E=1:2 by default.\n",
    "   + Volume per each cycle"
   ]
  },
  {
   "cell_type": "code",
   "execution_count": null,
   "metadata": {},
   "outputs": [],
   "source": [
    "alpha = 1.6\n",
    "d   = 0.49    \n",
    "fo=0.69\n",
    "mu=10.33\n",
    "s0=0\n",
    "generate_VTK=True\n",
    "lungs=['Left','Right',]\n",
    "permeability=dolfin.Constant(pow( 10, 4.0))\n",
    "Kresorte=80/1000 \n",
    "Nciclos=8\n",
    "vol_step=0.5*100000 #mm*mm*mm ==50 ml . volumen ingresado en cada ciclo.\n"
   ]
  },
  {
   "cell_type": "markdown",
   "metadata": {},
   "source": [
    "## Weak formulation\n",
    "To solve the problem, it is necessary to state the weak formulation. For the momentum balance equation we get the subproblem\n",
    "Find ${\\varphi}^c \\in \\mathcal{S}_{\\varphi^c}$ and $P^c \\in \\mathcal{S}_{P^c}$ such that\n",
    "\\begin{equation}\n",
    "\t\\int_{\\Omega_X} \\boldsymbol{P}_S^{c} :  \\nabla_X \\eta^c  \\ d \\Omega_X \n",
    "\t- \\int_{\\Omega_X}\\left( J^c P^c \\left(\\boldsymbol{F^c}\\right)^{-T} \\right): \\nabla_X {\\eta}^c  \\ d \\Omega_X  -\\int_{\\partial \\Omega_X}   T_S^c \\cdot {\\eta}^c  \\ d \\partial \\Omega_X=0,\n",
    "\\end{equation}\n",
    "for any $ \\eta^c \\in \\mathcal{V}_{\\varphi^c}$. For the case of the fluid coarse-scale problem, the weak equation is\n",
    "\\begin{equation}\n",
    "\t\\int_{\\Omega_X}\\frac{\\partial \\Phi}{\\partial t} q^c  \\ d \\Omega_X   - \\int_{\\Omega_X}   \\boldsymbol{Q}^c  \\cdot \\nabla_X \\  q^c \\ d \\Omega_X +\n",
    "\t\\int_{\\partial \\Omega_X} \\bar{Q}^c q^c\\ d \\partial \\Omega_X =0\n",
    "\\end{equation} \n",
    "for any $q^c \\in \\mathcal{V}_{P^c}$.\n",
    "\n",
    "\n",
    "\n",
    "To simulate this method, we consider that the $\\text{V}_\\text{tidal}$ is supplied during the inspiratory phase by a constant prescribed airflow condition as\n",
    "$$ \\bar{Q}^c=\\frac{\\text{V}_\\text{tidal}}{\\text{A}_\\text{aw} \\  \\text{T}_\\text{ins}} $$\n",
    "where $\\text{T}_\\text{insp}$ is the duration of inspiration and $\\text{A}_\\text{aw}$ is the area of the airways boundary obtained as the surface integral over this boundary. Then, null airflow is imposed as $\\bar{Q}^c=0$ during the end-inspiratory pause."
   ]
  },
  {
   "cell_type": "markdown",
   "metadata": {},
   "source": [
    "## Solve the problem\n",
    "\n",
    "\n",
    "Next, the problem is solved using finite elements in FEniCS, for which the following steps are performed:\n",
    "* Load the mesh and boundaryes\n",
    "* Build function space. We use Taylor-Hood element\n",
    "* Initialize solver \n",
    "* Time-stepping loop"
   ]
  },
  {
   "cell_type": "code",
   "execution_count": null,
   "metadata": {},
   "outputs": [],
   "source": [
    "#####################################################################################\n",
    "dolfin.PETScOptions.clear()\n",
    "quadrature_degree = 2\n",
    "dolfin.parameters[\"form_compiler\"][\"quadrature_degree\"]=quadrature_degree\n",
    "dolfin.parameters['form_compiler']['cpp_optimize'] = True\n",
    "dolfin.parameters['form_compiler']['representation'] = \"uflacs\"\n",
    "\n",
    "for lung in lungs:\n",
    "    s0=-1*abs(s0)\n",
    "    caso='fo'+str(round(fo,2))+'_'+'mu'+str(round(mu,2))+'s0'+str(abs(s0))\n",
    "    print('----INICIO----------------------------------------------')\n",
    "    print(caso)\n",
    "    print('--------------------------------------------------')\n",
    "    md.create_folders(lung,caso) \n",
    "    \n",
    "    quadrature_degree = 2\n",
    "    dolfin.parameters[\"form_compiler\"][\"quadrature_degree\"]=quadrature_degree\n",
    "    dolfin.parameters['form_compiler']['cpp_optimize'] = True\n",
    "    dolfin.parameters['form_compiler']['representation'] = \"uflacs\"\n",
    "    \n",
    "    # Create Results directory\n",
    "    dirName = lung+'/'+'Results/'\n",
    "    try:\n",
    "        os.mkdir(dirName)\n",
    "        print(\"Directory \" , dirName ,  \" Created \") \n",
    "    except FileExistsError:\n",
    "        print(\"Directory \" , dirName ,  \" already exists\")\n",
    "        \n",
    "        \n",
    "    wdir=lung+'/'\n",
    "    mesh_path = wdir+'Mesh/'#'Mesh/'\n",
    "    results_path  = wdir+'Results/'#'Results/'\n",
    "    \n",
    "    # prestress\n",
    "    prestress_target = s0\n",
    "    prestress_multipliers = np.array([0.5,1.])\n",
    "    prestress = dolfin.Constant(prestress_target)\n",
    "    \n",
    "    # =============================================================================\n",
    "    # MESH\n",
    "    # =============================================================================\n",
    "    \n",
    "    mesh = dolfin.Mesh()\n",
    "    hdf = dolfin.HDF5File(mesh.mpi_comm(), mesh_path + 'mesh.h5', \"r\")\n",
    "    hdf.read(mesh, \"/mesh\", False)\n",
    "    \n",
    "    boundary_markers = dolfin.MeshFunction(\"size_t\", mesh, mesh.topology().dim() - 1)\n",
    "    hdf.read(boundary_markers, \"/boundary_markers\")\n",
    "    hdf.close()\n",
    "    \n",
    "\n",
    "    # =============================================================================\n",
    "    # ELEMENTS AND FUNCTION SPACES\n",
    "    # =============================================================================\n",
    "    \n",
    "    P2 = dolfin.VectorElement(\"CG\", mesh.ufl_cell(), 2)\n",
    "    P1 = dolfin.FiniteElement(\"CG\", mesh.ufl_cell(), 1)\n",
    "    TH = dolfin.MixedElement([P2, P1]) \n",
    "    W  = dolfin.FunctionSpace(mesh, TH)\n",
    "    \n",
    "    # define other spaces\n",
    "    Efs = dolfin.FunctionSpace(mesh, 'CG', 1)\n",
    "    Vfs = dolfin.VectorFunctionSpace(mesh, 'CG', 1)\n",
    "    Tfs = dolfin.TensorFunctionSpace(mesh, 'CG', 1)\n",
    "    \n",
    "    #set functions\n",
    "    dw      = dolfin.TrialFunction(W)\n",
    "    delta_w = dolfin.TestFunction(W)           \n",
    "    w       = dolfin.Function(W)  \n",
    "    \n",
    "    (du, dp) = dolfin.split(dw)\n",
    "    (delta_u, delta_p) = dolfin.split(delta_w)\n",
    "    (u, p) = dolfin.split(w)\n",
    "    \n",
    "    \n",
    "    w0       = dolfin.Function(W)  \n",
    "    (u0, p0) = dolfin.split(w0)\n",
    "    \n",
    "    #Define an expression to time step\n",
    "    dt = dolfin.Expression((\"beta\"), beta=0., degree=2, domain=mesh) \n",
    "    \n",
    "    \n",
    "    # =============================================================================\n",
    "    # SET BOUNDARY CONDITIONS\n",
    "    # =============================================================================\n",
    "    \n",
    "    # DIRICHLET BOUNDARY CONDITIONS\n",
    "    zero = dolfin.Constant(0)\n",
    "    zero_vec = dolfin.Constant((0.0,0.0,0.0))\n",
    "    p_value = dolfin.Expression((\"presiones\"),degree=2,domain=mesh,presiones=0.0)\n",
    "    # fixed displacements and pressure\n",
    "    \n",
    "    dbc_ufixed = dolfin.DirichletBC(W.sub(0), zero_vec, boundary_markers, 1)\n",
    "    dbc_p = dolfin.DirichletBC(W.sub(1), p_value, boundary_markers, 1)\n",
    "    DBC = [ ]\n",
    "    \n",
    "    \n",
    "    # =============================================================================\n",
    "    # WEAK FORMULATION\n",
    "    # =============================================================================\n",
    "    \n",
    "    # deformation\n",
    "    I  = dolfin.Identity(3)\n",
    "    grad_phi = dolfin.grad(u) + I\n",
    "    J  = dolfin.det(grad_phi)\n",
    "    \n",
    "    grad_phi0 = dolfin.grad(u0) + I\n",
    "    J0  = dolfin.det(grad_phi0)\n",
    "    \n",
    "    # permeability tensor\n",
    "    K = dolfin.Identity(3)*permeability\n",
    "    \n",
    "    # domains\n",
    "    dx = dolfin.dx(degree=quadrature_degree)\n",
    "    ds = dolfin.Measure('ds', domain=mesh, subdomain_data=boundary_markers)(degree=2)\n",
    "    \n",
    "    # material parameters\n",
    "    params = {'mu':dolfin.Constant(mu),\n",
    "              'fo':dolfin.Constant(fo),\n",
    "              'd':dolfin.Constant(d),\n",
    "              'alpha':dolfin.Constant(alpha),\n",
    "              'K':K}\n",
    "    \n",
    " \n",
    "    # right hand side\n",
    "    # L = 0.*ds\n",
    "    N = dolfin.FacetNormal(mesh)\n",
    "    n = J * dolfin.dot( dolfin.inv(grad_phi).T, N)\n",
    "    \n",
    "    areas_pres=dolfin.Constant(1)*ds(1)\n",
    "    #cubo tiene 6 fronteras\n",
    "    L1=-1*(dolfin.inner(u,delta_u)*Kresorte*dolfin.ds(subdomain_data=boundary_markers,subdomain_id=1) \\\n",
    "          +dolfin.inner(u,delta_u)*Kresorte*dolfin.ds(subdomain_data=boundary_markers,subdomain_id=2) )\n",
    "    \n",
    "    dt = dolfin.Expression((\"beta\"), beta=0., degree=2, domain=mesh) ##ojo degree. idem pressure\n",
    "    Qbarra = dolfin.Expression((\"Qba\"), Qba=0,degree=2, domain=mesh)\n",
    "    L2= -dt*(dolfin.inner(Qbarra, delta_p))*dolfin.ds(subdomain_data=boundary_markers,subdomain_id=1)\n",
    "    L=L1+L2\n",
    "    \n",
    "    #NLproblem = nsuser.TKD_NonlinerProblem_poroelastic(rhs=L, bcs=DBC, w=w, dw=dw, delta_w=delta_w, X=dx, mesh=mesh, degreeF=1, degreeP=1,quadrature=quadrature_degree, prestress=prestress, **params)\n",
    "    NLproblem = md.TKD_NonlinerProblem_poroelastic(rhs=L, bcs=DBC,w0=w0,dt=dt, w=w, dw=dw, delta_w=delta_w, \n",
    "                                                       dX=dx, mesh=mesh, degreeF=1, degreeP=1,\n",
    "                                                       quadrature=quadrature_degree, \n",
    "                                                       prestress=prestress, **params)\n",
    "    \n",
    "    \n",
    "    \n",
    "    \n",
    "    # =============================================================================\n",
    "    # SOLVER \n",
    "    # =============================================================================\n",
    "    \n",
    "    # prepare solver\n",
    "    #solver = nsuser.MyNewtonSolver(mesh)\n",
    "    solver =md.MyNewtonSolver(mesh)\n",
    "    solver.parameters['convergence_criterion'] = 'residual'\n",
    "    solver.parameters['relative_tolerance']    = 1E-3  #-3\n",
    "    solver.parameters['absolute_tolerance']    = 1E-4  #-4\n",
    "    solver.parameters['maximum_iterations']    = 16\n",
    "    solver.parameters['report']                = True\n",
    "    solver.parameters['relaxation_parameter']  = 1.0\n",
    "    solver.parameters['error_on_nonconvergence'] = False\n",
    "    solver.parameters['linear_solver']         = 'mumps' #'lu'\n",
    "    \n",
    "        \n",
    "    # =============================================================================\n",
    "    # SOLUTION\n",
    "    # =============================================================================\n",
    "    t1 = time.time()\n",
    "    print('Solution process started')\n",
    "    # About hd5file to save data in fenics format -------------------------    \n",
    "    h5_file = dolfin.HDF5File(mesh.mpi_comm(), results_path + 'model_outputs.h5', \"w\")\n",
    "    h5_file.write(mesh, 'mesh')\n",
    "    \n",
    "    file_info = open('Information.log','w+')        \n",
    "    if dolfin.MPI.rank(dolfin.MPI.comm_world) == 0:\n",
    "        file_info.write('Solution procedure \\n')  \n",
    "        file_info.flush() \n",
    "        \n",
    "    # Time-stepping loop\n",
    "    areas=dolfin.Constant(1)*ds(1)\n",
    "    area=dolfin.assemble(areas)\n",
    "    #Creamos listas con los instantes de tiempo, pasos de tiempo y flujos. Asumimos Tsyr=0.3\n",
    "    times,qs,dts=md.give_times_fluxes_deltas_SUPER(Nciclos, vol_step,area) \n",
    "\n",
    "    \n",
    "    # Time-stepping loop\n",
    "    t = 0\n",
    "    Jacob=[]\n",
    "    fluxes=[]\n",
    "    presionestodas=[] \n",
    "    \n",
    "    \n",
    "    \n",
    "    #1- SOLUTION PRESTRESS- ###################\n",
    "    file_info.write('Prestress: \\n')        \n",
    "    file_info.flush()\n",
    "    steps = prestress_multipliers  \n",
    "    #if presstress==0\n",
    "    if s0!=0:\n",
    "        for i, mult in enumerate(steps):\n",
    "            dt.beta=-1\n",
    "            # messages\n",
    "            if dolfin.MPI.rank(dolfin.MPI.comm_world) == 0:\n",
    "                print('Solving prestress step '+str(i)+' ...')\n",
    "            # update prestress value\n",
    "            prestress.assign(prestress_target * mult)\n",
    "            p_value.presiones=0.0\n",
    "            print('PRESSURE DURING PRSTRESS',p_value.presiones)\n",
    "            # run fenics solver \n",
    "            w0.assign(w)\n",
    "            it, conv = solver.solve(NLproblem, w.vector())\n",
    "            # Extract solution components\n",
    "            u, p = w.split()\n",
    "            if dolfin.MPI.rank(dolfin.MPI.comm_world) == 0:\n",
    "                file_info.write('Step '+str(i)+ ' has converged in '+str(it)+' iterations \\n')        \n",
    "                file_info.flush()\n",
    "  \n",
    "    # 2- SOLUTION MECHANICAL VENTILATION ##########################\n",
    "    #for i, mult in enumerate(steps):\n",
    "    for i in np.arange(len(times)):\n",
    "        # messages\n",
    "        # messages\n",
    "        if dolfin.MPI.rank(dolfin.MPI.comm_world) == 0:\n",
    "            print('Solving step '+str(i)+' ...')\n",
    "        t=times[i]\n",
    "        dtt=dts[i]\n",
    "        Qbarra.Qba=qs[i]\n",
    "        dt.beta=dtt\n",
    "    \n",
    "        # run fenics solver \n",
    "        w0.assign(w)\n",
    "        it, conv = solver.solve(NLproblem, w.vector())\n",
    "        # Extract solution components\n",
    "        u, p = w.split()\n",
    "        u.rename(\"u\", \"displacement\")\n",
    "        p.rename(\"p\", \"pressure\")\n",
    "        \n",
    "    \n",
    "        if dolfin.MPI.rank(dolfin.MPI.comm_world) == 0:\n",
    "            file_info.write('Step '+str(i)+ ' has converged in '+str(it)+' iterations \\n')        \n",
    "            file_info.flush()\n",
    "\n",
    "        # get pressure (average) , volume and flow      \n",
    "        area_pres=dolfin.assemble(areas_pres)\n",
    "        paw_avg=  p*dolfin.ds(subdomain_data=boundary_markers,subdomain_id=1)#/area_pres#\n",
    "        paw=dolfin.assemble(paw_avg)/area_pres\n",
    "        Vi = dolfin.assemble(J*dx)\n",
    "        Jacob.append(Vi/1000000)\n",
    "        deltavol=dolfin.assemble(((J-J0)/dt)*dx)\n",
    "        fluxes.append(deltavol*10**-6)\n",
    "        presionestodas.append(paw)\n",
    "        \n",
    "        #Save Signals \n",
    "        np.save(lung+'/'+'Results/Signals/'+caso+'/multi'+'tiempos.npy',times[0:i+1])\n",
    "        np.save(lung+'/'+'Results/Signals/'+caso+'/multi'+'fluxes.npy',fluxes)\n",
    "        np.save(lung+'/'+'Results/Signals/'+caso+'/multi'+'presionestodas.npy',presionestodas)\n",
    "        np.save(lung+'/'+'Results/Signals/'+caso+'/multi'+'volumenes.npy',Jacob)\n",
    "        \n",
    "    print('FINAL')\n",
    "    print('------------------------------------------------')\n",
    "    print('tiempos:',times[0:i+1])\n",
    "    print('------------------------------------------------')\n",
    "    print('flujos:',fluxes)\n",
    "    print('------------------------------------------------')\n",
    "    print('presiones:',presionestodas)\n",
    "    print('------------------------------------------------')\n",
    "    print('volumenes:',Jacob)\n",
    "    print('------------------------------------------------')\n",
    "\n",
    "    print(caso)\n",
    "    print('--------------------------------------------------')    \n",
    "    h5_file.close()\n",
    "    t2 = time.time()\n",
    "    print('Solution process done')\n",
    "    print('Elapsed time '+str(round(t2-t1,0)))\n",
    "    "
   ]
  },
  {
   "cell_type": "markdown",
   "metadata": {},
   "source": [
    "## Plots the pressure-volume curve"
   ]
  },
  {
   "cell_type": "markdown",
   "metadata": {},
   "source": [
    "Finally, we plot the curve for the baseline case.\n"
   ]
  },
  {
   "cell_type": "code",
   "execution_count": 2,
   "metadata": {},
   "outputs": [
    {
     "data": {
      "image/png": "[encoded data removed]",
      "text/plain": [
       "<Figure size 360x378 with 1 Axes>"
      ]
     },
     "metadata": {
      "needs_background": "light"
     },
     "output_type": "display_data"
    },
    {
     "data": {
      "text/plain": [
       "<Figure size 432x288 with 0 Axes>"
      ]
     },
     "metadata": {},
     "output_type": "display_data"
    }
   ],
   "source": [
    "md.plotbaselineSUPER()"
   ]
  },
  {
   "cell_type": "markdown",
   "metadata": {},
   "source": [
    "We also plot signals for sensitibility analysis of $f_0$ and $\\mu$.\n",
    "\n",
    "**Note: these plots are the results of a sensitibity analysis for f0 and mu. To did these plots, all case must been ran:**\n",
    "\n",
    "\n",
    "`fos=[1.2*0.69, 0.8*0.69,  0.69 , 1.05*0.69,  0.95*0.69]`\n",
    "\n",
    "`mus=[1.2*10.33,0.8*10.33, 0.95*10.33, 10.33,1.05*10.33]`"
   ]
  },
  {
   "cell_type": "code",
   "execution_count": 3,
   "metadata": {},
   "outputs": [
    {
     "name": "stdout",
     "output_type": "stream",
     "text": [
      "Sensitibity analysis for f0\n"
     ]
    },
    {
     "data": {
      "image/png": "[encoded data removed]",
      "text/plain": [
       "<Figure size 360x378 with 1 Axes>"
      ]
     },
     "metadata": {
      "needs_background": "light"
     },
     "output_type": "display_data"
    },
    {
     "name": "stdout",
     "output_type": "stream",
     "text": [
      "---------------------------------------------------------------\n",
      "Sensitibity analysis for \\mu\n"
     ]
    },
    {
     "data": {
      "text/plain": [
       "<Figure size 432x288 with 0 Axes>"
      ]
     },
     "metadata": {},
     "output_type": "display_data"
    },
    {
     "data": {
      "image/png": "[encoded data removed]",
      "text/plain": [
       "<Figure size 360x378 with 1 Axes>"
      ]
     },
     "metadata": {
      "needs_background": "light"
     },
     "output_type": "display_data"
    },
    {
     "data": {
      "text/plain": [
       "<Figure size 432x288 with 0 Axes>"
      ]
     },
     "metadata": {},
     "output_type": "display_data"
    }
   ],
   "source": [
    "md.plotSUPER()"
   ]
  },
  {
   "cell_type": "code",
   "execution_count": null,
   "metadata": {},
   "outputs": [],
   "source": []
  }
 ],
 "metadata": {
  "kernelspec": {
   "display_name": "Python 3",
   "language": "python",
   "name": "python3"
  },
  "language_info": {
   "codemirror_mode": {
    "name": "ipython",
    "version": 3
   },
   "file_extension": ".py",
   "mimetype": "text/x-python",
   "name": "python",
   "nbconvert_exporter": "python",
   "pygments_lexer": "ipython3",
   "version": "3.7.4"
  },
  "latex_envs": {
   "LaTeX_envs_menu_present": true,
   "autoclose": false,
   "autocomplete": true,
   "bibliofile": "biblio.bib",
   "cite_by": "apalike",
   "current_citInitial": 1,
   "eqLabelWithNumbers": true,
   "eqNumInitial": 1,
   "hotkeys": {
    "equation": "Ctrl-E",
    "itemize": "Ctrl-I"
   },
   "labels_anchors": false,
   "latex_user_defs": false,
   "report_style_numbering": false,
   "user_envs_cfg": false
  }
 },
 "nbformat": 4,
 "nbformat_minor": 2
}
